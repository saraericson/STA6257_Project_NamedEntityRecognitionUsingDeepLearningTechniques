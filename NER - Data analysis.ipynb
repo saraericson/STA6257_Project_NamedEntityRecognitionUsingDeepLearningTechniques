{
  "cells": [
    {
      "cell_type": "raw",
      "metadata": {},
      "source": [
        "---\n",
        "title: \"NER - Data analysis\"\n",
        "format:\n",
        "  html:\n",
        "    embed-resources: true\n",
        "---"
      ],
      "id": "eaf7ce82"
    },
    {
      "cell_type": "markdown",
      "metadata": {},
      "source": [
        "## Dataset import from Github - Corona2\n",
        "\n",
        "The data was manually tagged (diseases,pathogens and medication) for training NER system item. It includes the following columns:\n",
        "\n",
        "- Text (The actual content)\n",
        "- Starts (Position on where the label starts)\n",
        "- Ends (Position on where the label ends)\n",
        "- Labels (The actual label from the text)\n",
        "- Categories:\n",
        "  - Medical condition names (example: influenza, headache, malaria)\n",
        "  - Medicine names (example : aspirin, penicillin, ribavirin, methotrexate)\n",
        "  - Pathogens ( example: Corona Virus, Zika Virus, cynobacteria, E. Coli)\n",
        "\n",
        "## Code Cell\n"
      ],
      "id": "16718e38"
    },
    {
      "cell_type": "code",
      "metadata": {},
      "source": [
        "!pip install -q nbclient\n",
        "!pip install -q requests\n",
        "!pip install -q pandas\n",
        "!pip install -q nbformat\n",
        "!pip install -q plotly.express"
      ],
      "id": "132db125",
      "execution_count": null,
      "outputs": []
    },
    {
      "cell_type": "code",
      "metadata": {},
      "source": [
        "import requests\n",
        "\n",
        "# Define the raw URL of the JSON file on GitHub\n",
        "url = 'https://raw.githubusercontent.com/jsanc223/datasetCorona2/main/Corona2.json'\n",
        "# Make an HTTP GET request to the raw URL\n",
        "response = requests.get(url)\n",
        "# Check if the request was successful (status code 200)\n",
        "if response.status_code == 200:\n",
        "    # Parse the JSON data from the response\n",
        "    data = response.json()\n",
        "    print(data)\n",
        "else:\n",
        "    print('Failed to fetch JSON data:', response.status_code)"
      ],
      "id": "0ce490c4",
      "execution_count": null,
      "outputs": []
    },
    {
      "cell_type": "markdown",
      "metadata": {},
      "source": [
        "Parse json data into dictionary to manipulata data."
      ],
      "id": "d1a69094"
    },
    {
      "cell_type": "code",
      "metadata": {},
      "source": [
        "training_data = []\n",
        "for example in data['examples']:\n",
        "  temp_dict = {}\n",
        "  temp_dict['text'] = example['content']\n",
        "  temp_dict['entities'] = []\n",
        "  for annotation in example['annotations']:\n",
        "    start = annotation['start']\n",
        "    end = annotation['end']\n",
        "    label = annotation['tag_name'].upper()\n",
        "    temp_dict['entities'].append((start, end, label))\n",
        "  training_data.append(temp_dict)"
      ],
      "id": "3a74a835",
      "execution_count": null,
      "outputs": []
    },
    {
      "cell_type": "markdown",
      "metadata": {},
      "source": [
        "Convert data from Dictionary to Dataframe"
      ],
      "id": "16e3a0cf"
    },
    {
      "cell_type": "code",
      "metadata": {},
      "source": [
        "import pandas as pd\n",
        "# Initialize empty lists to store the data for the DataFrame\n",
        "texts = []\n",
        "starts = []\n",
        "ends = []\n",
        "labels = []\n",
        "\n",
        "# Iterate through the training_data to extract individual entity annotations\n",
        "for example in training_data:\n",
        "    text = example['text']\n",
        "    for entity in example['entities']:\n",
        "        start, end, label = entity\n",
        "        # Append data to the lists\n",
        "        texts.append(text)\n",
        "        starts.append(start)\n",
        "        ends.append(end)\n",
        "        labels.append(label)\n",
        "\n",
        "# Create a DataFrame from the lists\n",
        "df = pd.DataFrame({'text': texts, 'start': starts, 'end': ends, 'label': labels})\n",
        "df.head(5)"
      ],
      "id": "c641deca",
      "execution_count": null,
      "outputs": []
    },
    {
      "cell_type": "markdown",
      "metadata": {},
      "source": [
        "Data statistics"
      ],
      "id": "a78edcd0"
    },
    {
      "cell_type": "code",
      "metadata": {},
      "source": [
        "import plotly.express as px\n",
        "\n",
        "# Count the occurrences of each label\n",
        "label_counts = df['label'].value_counts()\n",
        "\n",
        "# Create a DataFrame with labels and their respective counts\n",
        "df_counts = pd.DataFrame({'label': label_counts.index, 'count': label_counts.values})\n",
        "\n",
        "# Plot the frequency of each entity label using a bar plot in Plotly\n",
        "fig = px.bar(df_counts, x='label', y='count', text='count', color='label',\n",
        "             color_discrete_sequence=px.colors.qualitative.Plotly, title='Frequency of Entity Labels')\n",
        "\n",
        "# Display the counter label inside the bars\n",
        "fig.update_traces(textposition='inside')\n",
        "\n",
        "# Update axis titles\n",
        "fig.update_layout(xaxis_title='Entity Label', yaxis_title='Frequency')\n",
        "\n",
        "fig.show()"
      ],
      "id": "89750694",
      "execution_count": null,
      "outputs": []
    },
    {
      "cell_type": "code",
      "metadata": {},
      "source": [
        "import plotly.express as px\n",
        "\n",
        "# Get the counts of each unique label\n",
        "label_counts = df['label'].value_counts()\n",
        "# Plot a pie chart using Plotly\n",
        "fig = px.pie(label_counts, values=label_counts.values, names=label_counts.index, title='Proportion of Entity Labels', hole=0.3)\n",
        "fig.update_traces(textinfo='percent+label', textfont_size=12)\n",
        "fig.show()"
      ],
      "id": "45265878",
      "execution_count": null,
      "outputs": []
    },
    {
      "cell_type": "code",
      "metadata": {},
      "source": [
        "import plotly.express as px\n",
        "\n",
        "# Plot a histogram of entity start positions using Plotly\n",
        "fig = px.histogram(df, x='start', nbins=30, title='Histogram of Entity Start Positions')\n",
        "fig.update_layout(xaxis_title='Entity Start Position', yaxis_title='Frequency')\n",
        "fig.show()"
      ],
      "id": "29571b13",
      "execution_count": null,
      "outputs": []
    },
    {
      "cell_type": "code",
      "metadata": {},
      "source": [
        "import plotly.express as px\n",
        "\n",
        "# Create box plots for 'start' and 'end' columns using Plotly\n",
        "fig = px.box(df, y=['start', 'end'], points='all', title='Box Plots of Start and End Entity Positions')\n",
        "fig.update_layout(yaxis_title='Value', xaxis_title='Column')\n",
        "fig.show()"
      ],
      "id": "af46dd60",
      "execution_count": null,
      "outputs": []
    }
  ],
  "metadata": {
    "kernelspec": {
      "display_name": "Python 3",
      "language": "python",
      "name": "python3"
    }
  },
  "nbformat": 4,
  "nbformat_minor": 5
}